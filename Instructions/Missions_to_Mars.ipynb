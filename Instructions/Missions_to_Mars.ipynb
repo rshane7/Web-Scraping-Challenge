{
 "cells": [
  {
   "cell_type": "markdown",
   "metadata": {},
   "source": [
    "# Web Scraping Homework - Mission to Mars - Homework Startup Basics"
   ]
  },
  {
   "cell_type": "code",
   "execution_count": null,
   "metadata": {},
   "outputs": [],
   "source": [
    "### Web Scraping Homework - Mission to Mars\n",
    "#   ![mission_to_mars](Images/mission_to_mars.png)\n",
    "#   In this assignment, you will build a web application that scrapes various websites for data related to the\n",
    "#   Mission to Mars and displays the information in a single HTML page. The following outlines what you need to do."
   ]
  },
  {
   "cell_type": "code",
   "execution_count": null,
   "metadata": {},
   "outputs": [],
   "source": [
    "### Before You Begin - Complete\n",
    "#   1. Create a new repository for this project called `web-scraping-challenge`. **Do not add this homework to an\n",
    "#      existing repository**.\n",
    "#   2. Clone the new repository to your computer.\n",
    "#   3. Inside your local git repository, create a directory for the web scraping challenge. Use a folder name to \n",
    "#      correspond to the challenge: **Missions_to_Mars**.\n",
    "#   4. Add your notebook files to this folder as well as your flask app.\n",
    "#   5. Push the above changes to GitHub or GitLab."
   ]
  },
  {
   "cell_type": "code",
   "execution_count": null,
   "metadata": {},
   "outputs": [],
   "source": [
    "### Step 1 - Scraping - Complete\n",
    "#   Complete your initial scraping using Jupyter Notebook, BeautifulSoup, Pandas, and Requests/Splinter.\n",
    "#   * Create a Jupyter Notebook file called `mission_to_mars.ipynb` and use this to complete all of your scraping\n",
    "#   and analysis tasks. The following outlines what you need to scrape."
   ]
  },
  {
   "cell_type": "code",
   "execution_count": null,
   "metadata": {},
   "outputs": [],
   "source": [
    "# Import Dependencies\n",
    "import pandas as pd\n",
    "from bs4 import BeautifulSoup\n",
    "from splinter import Browser\n",
    "import requests \n",
    "import time"
   ]
  },
  {
   "cell_type": "code",
   "execution_count": null,
   "metadata": {},
   "outputs": [],
   "source": [
    "#   Provide Chromedriver executable path adn browser type - Chrome\n",
    "executable_path = {'executable_path': 'chromedriver.exe'}\n",
    "browser = Browser('chrome', **executable_path, headless=False)"
   ]
  },
  {
   "cell_type": "code",
   "execution_count": null,
   "metadata": {},
   "outputs": [],
   "source": [
    "#   Set sleep mode to 'x' seconds so the new chrome window can open to the above url.\n",
    "t=5\n",
    "t1=10"
   ]
  },
  {
   "cell_type": "markdown",
   "metadata": {},
   "source": [
    "# NASA Mars News"
   ]
  },
  {
   "cell_type": "code",
   "execution_count": null,
   "metadata": {},
   "outputs": [],
   "source": [
    "### Paragraph Text. Assign the text to variables that you can reference later.\n",
    "#   --- python ---\n",
    "#   Example:\n",
    "#   news_title = \"NASA's Next Mars Mission to Investigate Interior of Red Planet\"\n",
    "#   news_p = \"Preparation of NASA's next spacecraft to Mars, InSight, has ramped up this summer,\n",
    "#   on course for launch next May from Vandenberg Air Force Base in central California \n",
    "#   -- the first interplanetary launch in history from America's West Coast.\""
   ]
  },
  {
   "cell_type": "code",
   "execution_count": null,
   "metadata": {},
   "outputs": [],
   "source": [
    "#   Provide URL to be scraped and have browser go to URL provided in the line of code that populated the url variable\n",
    "nasa_news = 'https://mars.nasa.gov/news/'\n",
    "browser.visit(nasa_news)"
   ]
  },
  {
   "cell_type": "code",
   "execution_count": null,
   "metadata": {},
   "outputs": [],
   "source": [
    "#   Set sleep mode to 'x' seconds so the new chrome window can open to the above url.\n",
    "time.sleep(t)"
   ]
  },
  {
   "cell_type": "code",
   "execution_count": null,
   "metadata": {},
   "outputs": [],
   "source": [
    "#   Create new soup using BeautifulSoup and parse the contents\n",
    "html = browser.html\n",
    "soup = BeautifulSoup(html, 'html.parser')"
   ]
  },
  {
   "cell_type": "code",
   "execution_count": null,
   "metadata": {
    "scrolled": true
   },
   "outputs": [],
   "source": [
    "# save the most recent article, title and date\n",
    "article = soup.find(\"div\", class_=\"list_text\")\n",
    "news_date = article.find(\"div\", class_=\"list_date\").text\n",
    "news_title = article.find(\"div\", class_=\"content_title\").text\n",
    "news_paragraph = article.find(\"div\", class_=\"article_teaser_body\").text\n",
    "print()\n",
    "print()\n",
    "print(f\"The article date is:   {news_date}\")\n",
    "print()\n",
    "print(f\"The article title is:   {news_title}\")\n",
    "print()\n",
    "print(f\"The article descrition paragraph is:   {news_paragraph}\")\n",
    "print()"
   ]
  },
  {
   "cell_type": "markdown",
   "metadata": {},
   "source": [
    "# JPL Mars Space Images - Featured Image"
   ]
  },
  {
   "cell_type": "code",
   "execution_count": null,
   "metadata": {},
   "outputs": [],
   "source": [
    "### JPL Mars Space Images - Featured Image\n",
    "#   * Visit the url for JPL Featured Space Image [here](https://www.jpl.nasa.gov/spaceimages/?search=&category=Mars).\n",
    "#   * Use splinter to navigate the site and find the image url for the current Featured Mars Image and assign the url string to a variable called `featured_image_url`.\n",
    "#   * Make sure to find the image url to the full size `.jpg` image.\n",
    "#   * Make sure to save a complete url string for this image.\n",
    "#   --- python ---\n",
    "#   Example:\n",
    "#   featured_image_url = 'https://www.jpl.nasa.gov/spaceimages/images/largesize/PIA16225_hires.jpg'\n",
    "#   Added a tasks to present the image for the featured article we found in the prior task."
   ]
  },
  {
   "cell_type": "code",
   "execution_count": null,
   "metadata": {},
   "outputs": [],
   "source": [
    "#   Provide URL to be scraped and have browser go to URL provided in the line of code that populated the url variable\n",
    "mars_jpl_img = 'https://www.jpl.nasa.gov/spaceimages/?search=&category=Mars'\n",
    "browser.visit(mars_jpl_img)"
   ]
  },
  {
   "cell_type": "code",
   "execution_count": null,
   "metadata": {},
   "outputs": [],
   "source": [
    "#   Set sleep mode to 'x' seconds so the new chrome window can open to the above url.\n",
    "time.sleep(t)"
   ]
  },
  {
   "cell_type": "code",
   "execution_count": null,
   "metadata": {},
   "outputs": [],
   "source": [
    "#   Create new soup using BeautifulSoup and parse the contents\n",
    "html = browser.html\n",
    "mars_si_soup = BeautifulSoup(html, 'html.parser')"
   ]
  },
  {
   "cell_type": "code",
   "execution_count": null,
   "metadata": {},
   "outputs": [],
   "source": [
    "#   Found on stack overflow for this and the next box of code\n",
    "#   Scrape the browser into soup and use soup to find the image of mars for the featured article found in the previous tasks.\n",
    "#   Save the image url to a variable called `img_url` - move img_url in to featured_image_url to print url in next code box.\n",
    "#   Use ipython to display image under the image url in the next box of code.\n",
    "#image = mars_si_soup.find(\"img\", class_=\"thumb\")[\"src\"]\n",
    "image = mars_si_soup.find(\"img\", class_=\"thumb\")[\"src\"]\n",
    "img_url = \"https://jpl.nasa.gov\"+image\n",
    "featured_image_url = img_url"
   ]
  },
  {
   "cell_type": "code",
   "execution_count": null,
   "metadata": {},
   "outputs": [],
   "source": [
    "#   Print the image URL\n",
    "print(f\"The image url is: {featured_image_url}\")"
   ]
  },
  {
   "cell_type": "markdown",
   "metadata": {},
   "source": [
    "# Mars Weather"
   ]
  },
  {
   "cell_type": "code",
   "execution_count": null,
   "metadata": {},
   "outputs": [],
   "source": [
    "### Mars Weather\n",
    "#   * Visit the Mars Weather twitter account [here](https://twitter.com/marswxreport?lang=en) and scrape the latest \n",
    "#   Mars weather tweet from the page. Save the tweet text for the weather report as a variable called `mars_weather`.\n",
    "#   * **Note: Be sure you are not signed in to twitter, or scraping may become more difficult.**\n",
    "#   * **Note: Twitter frequently changes how information is presented on their website. If you are having difficulty\n",
    "#   getting the correct html tag data, consider researching Regular Expression Patterns and how they can be used in\n",
    "#   combination with the .find() method.**\n",
    "#   --- python ---\n",
    "#   Example:\n",
    "#   mars_weather = 'Sol 1801 (Aug 30, 2017), Sunny, high -21C/-5F, low -80C/-112F, pressure at 8.82 hPa, daylight 06:09-17:55'"
   ]
  },
  {
   "cell_type": "code",
   "execution_count": null,
   "metadata": {},
   "outputs": [],
   "source": [
    "#   Visit the Mars Weather twitter account and scrap the latest Mars weather tweet.\n",
    "#   Mars twitter account provided in notes above and here as well.\n",
    "#   https://twitter.com/marswxreport?lang=en\n",
    "#   Open url in chrome browser using english langauge\n",
    "#   Visit the url for Mars Weather twitter account.\n",
    "weather_url = \"https://twitter.com/marswxreport?lang=en\"\n",
    "browser.visit(weather_url)\n",
    "time.sleep(t)"
   ]
  },
  {
   "cell_type": "code",
   "execution_count": null,
   "metadata": {},
   "outputs": [],
   "source": [
    "#   Iterate through all 'tweets' and find text in 'p' tag.\n",
    "#   Create a loop where you are looking for keyword 'Insight' in the tweet text.\n",
    "#   If 'Insight' not found in tweet  continue looping through the tweets.\n",
    "#   Else if 'Insight found then continue adn print the contents of 'mars_weather' variable\n",
    "#   Parse HTML with Beautiful Soup\n",
    "weather = browser.html\n",
    "weather_soup = BeautifulSoup(weather, 'html.parser')\n",
    "\n",
    "#   Find all elements that contain tweets\n",
    "tweets = weather_soup.findAll(\"span\", attrs={\"class\": \"css-901oao css-16my406 r-1qd0xha r-ad9z0x r-bcqeeo r-qvutc0\"})\n",
    "\n",
    "#   Finds the first span from the tweets variable that have 'Sol' and 'pressure' in the text.\n",
    "for tweet in tweets: \n",
    "    mars_weather = tweet.get_text()\n",
    "    if 'Sol' and 'pressure'  in mars_weather:\n",
    "        break\n",
    "    else: \n",
    "        pass\n",
    "\n",
    "#   Prints the contents of the mars_weather variable which should be the latest weather conditions on Mars    \n",
    "print(mars_weather)"
   ]
  },
  {
   "cell_type": "markdown",
   "metadata": {},
   "source": [
    "# Mars Facts"
   ]
  },
  {
   "cell_type": "code",
   "execution_count": null,
   "metadata": {},
   "outputs": [],
   "source": [
    "### Mars Facts\n",
    "#   * Visit the Mars Facts webpage [here](https://space-facts.com/mars/) and use Pandas to\n",
    "#   scrape the table containing facts about the planet including Diameter, Mass, etc.\n",
    "#   * Use Pandas to convert the data to a HTML table string."
   ]
  },
  {
   "cell_type": "code",
   "execution_count": null,
   "metadata": {},
   "outputs": [],
   "source": [
    "#   Mars Facts url put into a variable\n",
    "mars_facts_url = \"https://space-facts.com/mars/\"\n",
    "\n",
    "#   Read the url html data and create an index into a pandas variable named table\n",
    "table = pd.read_html(mars_facts_url)\n",
    "table"
   ]
  },
  {
   "cell_type": "code",
   "execution_count": null,
   "metadata": {},
   "outputs": [],
   "source": [
    "#   This creates a dataFrame showing the index, descripton and value from the tables variable that consisted of raw data/index.\n",
    "mars_facts_df = table[1]\n",
    "mars_facts_df.columns = [\"Description\", \"Value\"]\n",
    "mars_facts_df"
   ]
  },
  {
   "cell_type": "code",
   "execution_count": null,
   "metadata": {},
   "outputs": [],
   "source": [
    "#   Takes the above dataFrame in mars_facts_df and converts it into html placing the results in mars_facts_html.\n",
    "mars_facts_html=mars_facts_df.to_html(header = False, index = False)\n",
    "print(mars_facts_html)"
   ]
  },
  {
   "cell_type": "markdown",
   "metadata": {},
   "source": [
    "# Mars Hemispheres "
   ]
  },
  {
   "cell_type": "code",
   "execution_count": null,
   "metadata": {},
   "outputs": [],
   "source": [
    "### Mars Hemispheres\n",
    "#   * Visit the USGS Astrogeology site [here](https://astrogeology.usgs.gov/search/results?q=hemisphere+enhanced&k1=target&v1=Mars) to obtain high resolution images for each of Mar's hemispheres.\n",
    "#   * You will need to click each of the links to the hemispheres in order to find the image url to the full resolution image.\n",
    "#   * Save both the image url string for the full resolution hemisphere image, and the Hemisphere title containing the hemisphere name. Use a Python dictionary to store the data using the keys `img_url` and `title`.\n",
    "#   * Append the dictionary with the image url string and the hemisphere title to a list. This list will contain one dictionary for each hemisphere.\n",
    "#   --- python ---\n",
    "#   Example:\n",
    "#   hemisphere_image_urls = [\n",
    "#       {\"title\": \"Valles Marineris Hemisphere\", \"img_url\": \"...\"},\n",
    "#       {\"title\": \"Cerberus Hemisphere\", \"img_url\": \"...\"},\n",
    "#       {\"title\": \"Schiaparelli Hemisphere\", \"img_url\": \"...\"},\n",
    "#       {\"title\": \"Syrtis Major Hemisphere\", \"img_url\": \"...\"},\n",
    "#   ]"
   ]
  },
  {
   "cell_type": "code",
   "execution_count": null,
   "metadata": {},
   "outputs": [],
   "source": [
    "#   Visit the USGS Astogeology site and scrape url and picture info for each hemisphere.\n",
    "hemisphere = \"https://astrogeology.usgs.gov/search/results?q=hemisphere+enhanced&k1=target&v1=Mars\"\n",
    "browser.visit(hemisphere)"
   ]
  },
  {
   "cell_type": "code",
   "execution_count": null,
   "metadata": {},
   "outputs": [],
   "source": [
    "#   Use splinter to loop through the 4 images and load them into a dictionary\n",
    "html = browser.html\n",
    "soup = BeautifulSoup(html, 'html.parser')\n",
    "mars_hemisphere=[]"
   ]
  },
  {
   "cell_type": "code",
   "execution_count": null,
   "metadata": {},
   "outputs": [],
   "source": [
    "#   Loop through the four tags then load the data to the dictionary.\n",
    "#   Append data from the dictionary into the variable mars_hemisphere to be displayed.\n",
    "\n",
    "for i in range (4):\n",
    "    time.sleep(t)\n",
    "    images = browser.find_by_tag('h3')\n",
    "    images[i].click()\n",
    "    html = browser.html\n",
    "    soup = BeautifulSoup(html, 'html.parser')\n",
    "    partial = soup.find(\"img\", class_=\"wide-image\")[\"src\"]\n",
    "    img_title = soup.find(\"h2\",class_=\"title\").text\n",
    "    img_url = 'https://astrogeology.usgs.gov'+ partial\n",
    "    dictionary={\"title\":img_title,\"img_url\":img_url}\n",
    "    mars_hemisphere.append(dictionary)\n",
    "    browser.back()"
   ]
  },
  {
   "cell_type": "code",
   "execution_count": null,
   "metadata": {},
   "outputs": [],
   "source": [
    "#   Displayed contents of mars_hemisphere - did not use 'print' statement as it does not present as well as with 'print'.\n",
    "mars_hemisphere"
   ]
  },
  {
   "cell_type": "code",
   "execution_count": null,
   "metadata": {},
   "outputs": [],
   "source": [
    "# close browser\n",
    "browser.quit()"
   ]
  },
  {
   "cell_type": "markdown",
   "metadata": {},
   "source": [
    "#                                                THE END"
   ]
  }
 ],
 "metadata": {
  "kernelspec": {
   "display_name": "Python 3",
   "language": "python",
   "name": "python3"
  },
  "language_info": {
   "codemirror_mode": {
    "name": "ipython",
    "version": 3
   },
   "file_extension": ".py",
   "mimetype": "text/x-python",
   "name": "python",
   "nbconvert_exporter": "python",
   "pygments_lexer": "ipython3",
   "version": "3.7.4"
  }
 },
 "nbformat": 4,
 "nbformat_minor": 2
}
