{
 "cells": [
  {
   "cell_type": "code",
   "execution_count": 3,
   "metadata": {},
   "outputs": [],
   "source": [
    "### Import Dependencies\n",
    "import GetOldTweets3 as got\n",
    "import pandas as pd\n",
    "from pyquery import PyQuery as pq\n",
    "from lxml import etree\n",
    "import urllib"
   ]
  },
  {
   "cell_type": "code",
   "execution_count": 4,
   "metadata": {},
   "outputs": [],
   "source": [
    "    # Creation of query object\n",
    "#    tweetCriteria = got.manager.TweetCriteria().setQuerySearch(\"Ebola\").setUntil('2016-03-14').setMaxTweets(11000)\n",
    "#    tweetCriteria = got.manager.TweetCriteria().setQuerySearch(\"Ebola\").setSince('2014-08-14').setUntil('2016-03-14')\n",
    "\n",
    "    # Creation of list that contains all tweets\n",
    "    tweets = got.manager.TweetManager.getTweets(tweetCriteria)\n",
    "    \n",
    "    text_tweets = [[tweet.date, tweet.text] for tweet in tweets]\n",
    "    \n",
    "    # Creation of dataframe from tweets\n",
    "    tweets_df = pd.DataFrame(text_tweets, columns = ['Datetime', 'Text'])\n",
    "\n",
    "    #tweets_df.head()\n",
    "    \n",
    "    # Converting tweets dataframe to csv file\n",
    "    tweets_df.to_csv(\"../tweets.ebolaX.csv\", index=False, header=True)"
   ]
  },
  {
   "cell_type": "code",
   "execution_count": null,
   "metadata": {},
   "outputs": [],
   "source": []
  }
 ],
 "metadata": {
  "kernelspec": {
   "display_name": "Python 3",
   "language": "python",
   "name": "python3"
  },
  "language_info": {
   "codemirror_mode": {
    "name": "ipython",
    "version": 3
   },
   "file_extension": ".py",
   "mimetype": "text/x-python",
   "name": "python",
   "nbconvert_exporter": "python",
   "pygments_lexer": "ipython3",
   "version": "3.7.4"
  }
 },
 "nbformat": 4,
 "nbformat_minor": 2
}
